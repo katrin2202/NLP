{
  "nbformat": 4,
  "nbformat_minor": 0,
  "metadata": {
    "colab": {
      "provenance": [],
      "authorship_tag": "ABX9TyMiyS81owh/FYI5X049kXQc",
      "include_colab_link": true
    },
    "kernelspec": {
      "name": "python3",
      "display_name": "Python 3"
    },
    "language_info": {
      "name": "python"
    }
  },
  "cells": [
    {
      "cell_type": "markdown",
      "metadata": {
        "id": "view-in-github",
        "colab_type": "text"
      },
      "source": [
        "<a href=\"https://colab.research.google.com/github/katrin2202/NLP/blob/main/Untitled6.ipynb\" target=\"_parent\"><img src=\"https://colab.research.google.com/assets/colab-badge.svg\" alt=\"Open In Colab\"/></a>"
      ]
    },
    {
      "cell_type": "markdown",
      "source": [
        "#Работа с объектами-контейнерами и настройками spaCy под свои нужды"
      ],
      "metadata": {
        "id": "YH-ikFFI6Nr2"
      }
    },
    {
      "cell_type": "markdown",
      "source": [
        "##Получение индекса токена в объекте Doc"
      ],
      "metadata": {
        "id": "nuKfutcD6bKj"
      }
    },
    {
      "cell_type": "code",
      "source": [
        "import spacy\n",
        "from spacy.tokens.doc import Doc\n",
        "from spacy.vocab import Vocab"
      ],
      "metadata": {
        "id": "KD7DbfB068F7"
      },
      "execution_count": 14,
      "outputs": []
    },
    {
      "cell_type": "markdown",
      "source": [
        "Здесь вызываем конструктор класса `Doc` и передаем ему два параметра: объект `vocab` — контейнер хранилища со словарными данными и список токенов для добавления в создаваемый объект `Doc`"
      ],
      "metadata": {
        "id": "MR46jSpk7VFf"
      }
    },
    {
      "cell_type": "code",
      "source": [
        "doc = Doc(Vocab(), words=[u'Hi', u'there'])\n",
        "doc"
      ],
      "metadata": {
        "colab": {
          "base_uri": "https://localhost:8080/"
        },
        "id": "udb1rqi-6lmE",
        "outputId": "d18e3973-df35-41ec-960c-35f8c74cc85c"
      },
      "execution_count": 10,
      "outputs": [
        {
          "output_type": "execute_result",
          "data": {
            "text/plain": [
              "Hi there "
            ]
          },
          "metadata": {},
          "execution_count": 10
        }
      ]
    },
    {
      "cell_type": "markdown",
      "source": [
        "## Обход в цикле синтаксических дочерних элементов токена"
      ],
      "metadata": {
        "id": "puW9vLMO7wnk"
      }
    },
    {
      "cell_type": "markdown",
      "source": [
        "Нам потребуется установить и загрузать пакет обученного конвейера по умолчанию"
      ],
      "metadata": {
        "id": "0A0j1pFY9D-a"
      }
    },
    {
      "cell_type": "code",
      "source": [
        "!python -m spacy download en_core_web_sm"
      ],
      "metadata": {
        "id": "r-fPPY1Q82aK"
      },
      "execution_count": null,
      "outputs": []
    },
    {
      "cell_type": "code",
      "source": [
        "nlp = spacy.load(\"en_core_web_sm\")"
      ],
      "metadata": {
        "id": "s0uO4J2W8tgS"
      },
      "execution_count": 19,
      "outputs": []
    },
    {
      "cell_type": "markdown",
      "source": [
        "Для получения программным образом левосторонних дочерних элементов токена *apple* в данном предложении можно воспользоваться следующим кодом:"
      ],
      "metadata": {
        "id": "YfNehPL89LlC"
      }
    },
    {
      "cell_type": "code",
      "source": [
        "doc = nlp(\"I want a green apple.\")\n",
        "[w for w in doc[4].lefts]"
      ],
      "metadata": {
        "colab": {
          "base_uri": "https://localhost:8080/"
        },
        "id": "5KdepNOf7SAi",
        "outputId": "038acc86-df1f-4738-f13e-28755a9d6965"
      },
      "execution_count": 21,
      "outputs": [
        {
          "output_type": "execute_result",
          "data": {
            "text/plain": [
              "[a, green]"
            ]
          },
          "metadata": {},
          "execution_count": 21
        }
      ]
    },
    {
      "cell_type": "markdown",
      "source": [
        "У слова *apple* есть только левосторонние синтаксические дочерние элементы. На практике это означает, что можно заменить атрибут `Token.lefts` на `Token.children`, служащий для поиска всех дочерних элементов токена:"
      ],
      "metadata": {
        "id": "JTyIp8fo9mIK"
      }
    },
    {
      "cell_type": "code",
      "source": [
        "[w for w in doc[4].children]"
      ],
      "metadata": {
        "colab": {
          "base_uri": "https://localhost:8080/"
        },
        "id": "FAeMb29677IC",
        "outputId": "5d5c1b52-f783-4b76-ab6f-3977e614129d"
      },
      "execution_count": 22,
      "outputs": [
        {
          "output_type": "execute_result",
          "data": {
            "text/plain": [
              "[a, green]"
            ]
          },
          "metadata": {},
          "execution_count": 22
        }
      ]
    },
    {
      "cell_type": "markdown",
      "source": [
        "Можно также использовать атрибут `Token.rights` для получения правосторонних синтаксических дочерних элементов:\n",
        "Но слово *apply* само является правосторонним дочерним элементом слова want"
      ],
      "metadata": {
        "id": "dRl7SR4j90BJ"
      }
    },
    {
      "cell_type": "code",
      "source": [
        "[w for w in doc[4].rights]"
      ],
      "metadata": {
        "colab": {
          "base_uri": "https://localhost:8080/"
        },
        "id": "bfxHLeqo9sOn",
        "outputId": "5b386b02-abb1-4018-95a1-8f71c1c25ef6"
      },
      "execution_count": 23,
      "outputs": [
        {
          "output_type": "execute_result",
          "data": {
            "text/plain": [
              "[]"
            ]
          },
          "metadata": {},
          "execution_count": 23
        }
      ]
    },
    {
      "cell_type": "markdown",
      "source": [
        "## Контейнер `doc.sents`"
      ],
      "metadata": {
        "id": "Q-9L6S4l-IAZ"
      }
    },
    {
      "cell_type": "markdown",
      "source": [
        "Cмысл синтаксических меток, присваиваемых токенам, проявляется лишь в контексте предложения, где встречается данный токен.\n",
        "С помощью свойства `doc.sents` объекта `Doc` текст можно разделить на отдельные предложения, как показано в следующем примере:"
      ],
      "metadata": {
        "id": "ZRNTszLW-SXJ"
      }
    },
    {
      "cell_type": "markdown",
      "source": [
        "Здесь проходим по предложениям из объекта `doc`, создавая отдельный список токенов для каждого предложения"
      ],
      "metadata": {
        "id": "TAJj4jdL-lYu"
      }
    },
    {
      "cell_type": "code",
      "source": [
        "doc = nlp(u'A severe storm hit the beach. It started to rain.')\n",
        "for sent in doc.sents:\n",
        "  print([sent[i] for i in range(len(sent))])"
      ],
      "metadata": {
        "colab": {
          "base_uri": "https://localhost:8080/"
        },
        "id": "lef28Fta95Fp",
        "outputId": "c7f1f9d1-73b7-4bc1-88af-cacbd835a34c"
      },
      "execution_count": 25,
      "outputs": [
        {
          "output_type": "stream",
          "name": "stdout",
          "text": [
            "[A, severe, storm, hit, the, beach, .]\n",
            "[It, started, to, rain, .]\n"
          ]
        }
      ]
    },
    {
      "cell_type": "markdown",
      "source": [
        "В то же время можно ссылаться на токены в состоящем из множества предложений тексте с помощью глобальных индексов уровня документа, как показано вот здесь:"
      ],
      "metadata": {
        "id": "KVTLtlUE-sDJ"
      }
    },
    {
      "cell_type": "code",
      "source": [
        "[doc[i] for i in range(len(doc))]"
      ],
      "metadata": {
        "colab": {
          "base_uri": "https://localhost:8080/"
        },
        "id": "dYoDKSAh-dmp",
        "outputId": "5290df02-72bc-4fc7-98e0-1995bb45410d"
      },
      "execution_count": 26,
      "outputs": [
        {
          "output_type": "execute_result",
          "data": {
            "text/plain": [
              "[A, severe, storm, hit, the, beach, ., It, started, to, rain, .]"
            ]
          },
          "metadata": {},
          "execution_count": 26
        }
      ]
    },
    {
      "cell_type": "markdown",
      "source": [
        "Возможность ссылаться на объекты `Token` в документе по их индексам уровня предложения удобна, когда нужно, например, проверить, является ли первое слово во втором предложении обрабатываемого текста местоимением"
      ],
      "metadata": {
        "id": "9D-qfAxv-0kh"
      }
    },
    {
      "cell_type": "code",
      "source": [
        "for i,sent in enumerate(doc.sents):\n",
        "  if i==1 and sent[0].pos_== 'PRON':\n",
        "    print('The second sentence begins with a pronoun.')"
      ],
      "metadata": {
        "colab": {
          "base_uri": "https://localhost:8080/"
        },
        "id": "pQwSEzMI-vTo",
        "outputId": "600222ec-805b-4cbf-dc2e-11eaceff3dfc"
      },
      "execution_count": 27,
      "outputs": [
        {
          "output_type": "stream",
          "name": "stdout",
          "text": [
            "The second sentence begins with a pronoun.\n"
          ]
        }
      ]
    },
    {
      "cell_type": "markdown",
      "source": [
        "Выбор первого слова в предложении — элементарная задача, поскольку его индекс всегда равен 0. А как насчет последнего? Например, что делать, если необходимо определить, сколько предложений в тексте оканчивается глаголом (не считая точек и прочих знаков препинания)?"
      ],
      "metadata": {
        "id": "HCVlgl8m_CyR"
      }
    },
    {
      "cell_type": "markdown",
      "source": [
        "Хотя длины предложений различны, их можно легко вычислить с помощью функции `len()`. Вычитаем 2 из значения `len(sent)` по следующим причинам: во-первых, индексы всегда начинаются с 0 и заканчиваются на *size-1*, во-вторых, последний токен в обоих предложениях нашего примера текста — точка, которую не нужно учитывать."
      ],
      "metadata": {
        "id": "2OB1O1DT_PxV"
      }
    },
    {
      "cell_type": "code",
      "source": [
        "counter = 0\n",
        "for sent in doc.sents:\n",
        "  if sent[len(sent)-2].pos_ == 'VERB':\n",
        "    counter+=1\n",
        "print(counter)"
      ],
      "metadata": {
        "colab": {
          "base_uri": "https://localhost:8080/"
        },
        "id": "yQYcC31T-6g3",
        "outputId": "2aa07e86-5035-4fa7-9c0d-ef884cbccd69"
      },
      "execution_count": 28,
      "outputs": [
        {
          "output_type": "stream",
          "name": "stdout",
          "text": [
            "1\n"
          ]
        }
      ]
    },
    {
      "cell_type": "markdown",
      "source": [
        "## Контейнер `doc.noun_chunks`"
      ],
      "metadata": {
        "id": "U1VOz7Bx_cEw"
      }
    },
    {
      "cell_type": "markdown",
      "source": [
        "С помощью свойства `doc.noun_chunks` объекта `Doc` можно пройти по именным фрагментам. Именной фрагмент (*noun chunk*) — это фраза, главным элементом которой является существительное."
      ],
      "metadata": {
        "id": "f2wacGlE_iKh"
      }
    },
    {
      "cell_type": "code",
      "source": [
        "doc = nlp(u'A noun chunk is a phrase that has a noun as its head.')\n",
        "for chunk in doc.noun_chunks:\n",
        "  print(chunk)"
      ],
      "metadata": {
        "colab": {
          "base_uri": "https://localhost:8080/"
        },
        "id": "sjB3lsEg_KlZ",
        "outputId": "3e299090-3f96-44b7-910c-5c2a0f1ccd61"
      },
      "execution_count": 52,
      "outputs": [
        {
          "output_type": "stream",
          "name": "stdout",
          "text": [
            "A noun chunk\n",
            "a phrase\n",
            "that\n",
            "a noun\n",
            "its head\n"
          ]
        }
      ]
    },
    {
      "cell_type": "markdown",
      "source": [
        "Или же для извлечения именных фрагментов можно обойти в цикле существительные в предложении и найти синтаксические дочерние элементы каждого существительного, чтобы из них образовать именные фрагменты."
      ],
      "metadata": {
        "id": "moK7U90n_xYh"
      }
    },
    {
      "cell_type": "code",
      "source": [
        "for token in doc:\n",
        "  if token.pos_=='NOUN':\n",
        "    chunk = ''\n",
        "    for w in token.children:\n",
        "      if w.pos_ == 'DET' or w.pos_ == 'ADJ':\n",
        "        chunk = chunk + w.text + ' '\n",
        "    chunk = chunk + token.text\n",
        "    print(chunk)"
      ],
      "metadata": {
        "colab": {
          "base_uri": "https://localhost:8080/"
        },
        "id": "wBkb6_X7_tED",
        "outputId": "43d6a7c2-0c7c-416b-ec31-06a239f9031f"
      },
      "execution_count": 62,
      "outputs": [
        {
          "output_type": "stream",
          "name": "stdout",
          "text": [
            "noun\n",
            "A chunk\n",
            "a phrase\n",
            "a noun\n",
            "head\n"
          ]
        }
      ]
    },
    {
      "cell_type": "code",
      "source": [
        "doc=nlp('I want a green apple.')\n",
        "doc[2:5]"
      ],
      "metadata": {
        "colab": {
          "base_uri": "https://localhost:8080/"
        },
        "id": "mhcbGUJs_6PO",
        "outputId": "0f47d335-02ca-4c2c-fb60-ecb1b544dfea"
      },
      "execution_count": 50,
      "outputs": [
        {
          "output_type": "execute_result",
          "data": {
            "text/plain": [
              "a green apple"
            ]
          },
          "metadata": {},
          "execution_count": 50
        }
      ]
    },
    {
      "cell_type": "code",
      "source": [],
      "metadata": {
        "id": "jUExFTyvBDD1"
      },
      "execution_count": null,
      "outputs": []
    }
  ]
}