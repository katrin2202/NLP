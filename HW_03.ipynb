{
  "nbformat": 4,
  "nbformat_minor": 0,
  "metadata": {
    "colab": {
      "provenance": [],
      "authorship_tag": "ABX9TyOhkRHy/HNGOJHjGl0Ensu9",
      "include_colab_link": true
    },
    "kernelspec": {
      "name": "python3",
      "display_name": "Python 3"
    },
    "language_info": {
      "name": "python"
    }
  },
  "cells": [
    {
      "cell_type": "markdown",
      "metadata": {
        "id": "view-in-github",
        "colab_type": "text"
      },
      "source": [
        "<a href=\"https://colab.research.google.com/github/katrin2202/NLP/blob/main/HW_03.ipynb\" target=\"_parent\"><img src=\"https://colab.research.google.com/assets/colab-badge.svg\" alt=\"Open In Colab\"/></a>"
      ]
    },
    {
      "cell_type": "markdown",
      "source": [
        "#Работа с векторами слов"
      ],
      "metadata": {
        "id": "HwayxjP9nYEC"
      }
    },
    {
      "cell_type": "markdown",
      "source": [
        "##Смысл векторов слов"
      ],
      "metadata": {
        "id": "Ntotz1CDnxLC"
      }
    },
    {
      "cell_type": "markdown",
      "source": [
        "При создании статистических моделей словам в соответствие ставятся вещественные векторы, отражающие семантическое подобие этих слов. Пространство векторов слов можно представить в виде облака, где векторы располагаются тем ближе, чем ближе значения слов. Например, вектор, соответствующий слову «картофель» будет ближе к вектору слова «морковь», чем к вектору слова «плакать»."
      ],
      "metadata": {
        "id": "f11v9hpnn04Q"
      }
    },
    {
      "cell_type": "markdown",
      "source": [
        "###Метод `similarity`"
      ],
      "metadata": {
        "id": "0TDq-PtXndTF"
      }
    },
    {
      "cell_type": "markdown",
      "source": [
        "У всех типов объектов-контейнеров в библиотеке `spaCy` есть метод \n",
        "`similarity`, который используется для вычисления оценки семанти ческого подобия двух объектов-контейнеров произвольного типа посредством сравнения их векторов слов. Для вычисления подобия интервалов и документов, не обладающих векторами слов, `spaCy` сравнивает средние значения векторов слов содержащихся в них токенов."
      ],
      "metadata": {
        "id": "JCRUuyMcoHAd"
      }
    },
    {
      "cell_type": "markdown",
      "source": [
        "Подключаем нужные нам библиотеки"
      ],
      "metadata": {
        "id": "iRNQ7hsLoG0r"
      }
    },
    {
      "cell_type": "code",
      "execution_count": null,
      "metadata": {
        "id": "4anMWYGInUGx"
      },
      "outputs": [],
      "source": [
        "import spacy\n",
        "from spacy.tokens.doc import Doc\n",
        "from spacy.vocab import Vocab"
      ]
    },
    {
      "cell_type": "markdown",
      "source": [
        "Нам потребуется установить и загрузать пакет обученного конвейера по умолчанию"
      ],
      "metadata": {
        "id": "oBB8CSA5olIf"
      }
    },
    {
      "cell_type": "code",
      "source": [
        "!python -m spacy download en_core_web_sm"
      ],
      "metadata": {
        "id": "vPk4Ce-ooo5e"
      },
      "execution_count": null,
      "outputs": []
    },
    {
      "cell_type": "code",
      "source": [
        "nlp = spacy.load(\"en_core_web_sm\")"
      ],
      "metadata": {
        "id": "-y_QwIpFoqhi"
      },
      "execution_count": null,
      "outputs": []
    }
  ]
}